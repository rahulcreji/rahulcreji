{
 "cells": [
  {
   "cell_type": "code",
   "execution_count": null,
   "id": "4d7226b7",
   "metadata": {},
   "outputs": [],
   "source": [
    "import os\n",
    "import sys\n",
    "import subprocess\n",
    "\n",
    "def mp3_to_wav(mp3_folder, wav_folder):\n",
    "    if not os.path.exists(wav_folder):\n",
    "        os.makedirs(wav_folder)\n",
    "    \n",
    "    for mp3_file in os.listdir(mp3_folder):\n",
    "        if mp3_file.endswith(\".mp3\"):\n",
    "            wav_file = mp3_file.replace(\".mp3\", \".wav\")\n",
    "            wav_path = os.path.join(wav_folder, wav_file)\n",
    "            \n",
    "            mp3_path = os.path.join(mp3_folder, mp3_file)\n",
    "            subprocess.call([\"ffmpeg\", \"-i\", mp3_path, wav_path])\n",
    "            \n",
    "            print(f\"Converted {mp3_file} to {wav_file}\")\n",
    "    \n",
    "    print(\"Conversion complete\")\n",
    "\n",
    "if __name__ == \"__main__\":\n",
    "    mp3_folder = sys.argv[1]\n",
    "    wav_folder = sys.argv[2]\n",
    "\n"
   ]
  }
 ],
 "metadata": {
  "kernelspec": {
   "display_name": "Python 3 (ipykernel)",
   "language": "python",
   "name": "python3"
  },
  "language_info": {
   "codemirror_mode": {
    "name": "ipython",
    "version": 3
   },
   "file_extension": ".py",
   "mimetype": "text/x-python",
   "name": "python",
   "nbconvert_exporter": "python",
   "pygments_lexer": "ipython3",
   "version": "3.9.13"
  }
 },
 "nbformat": 4,
 "nbformat_minor": 5
}
